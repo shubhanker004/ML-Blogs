{
 "cells": [
  {
   "cell_type": "code",
   "execution_count": 5,
   "metadata": {},
   "outputs": [],
   "source": [
    "import pandas as pd              #importing pandas with an alias pd\n",
    "import numpy as np               #importing numpy with an alias np"
   ]
  },
  {
   "cell_type": "code",
   "execution_count": 12,
   "metadata": {},
   "outputs": [],
   "source": [
    "df = pd.read_csv('Boston.csv')"
   ]
  },
  {
   "cell_type": "code",
   "execution_count": 14,
   "metadata": {},
   "outputs": [
    {
     "name": "stdout",
     "output_type": "stream",
     "text": [
      "   Unnamed: 0     crim    zn  indus  chas    nox     rm   age     dis  rad  \\\n",
      "0           1  0.00632  18.0   2.31     0  0.538  6.575  65.2  4.0900    1   \n",
      "1           2  0.02731   0.0   7.07     0  0.469  6.421  78.9  4.9671    2   \n",
      "2           3  0.02729   0.0   7.07     0  0.469  7.185  61.1  4.9671    2   \n",
      "3           4  0.03237   0.0   2.18     0  0.458  6.998  45.8  6.0622    3   \n",
      "4           5  0.06905   0.0   2.18     0  0.458  7.147  54.2  6.0622    3   \n",
      "\n",
      "   tax  ptratio   black  lstat  medv  \n",
      "0  296     15.3  396.90   4.98  24.0  \n",
      "1  242     17.8  396.90   9.14  21.6  \n",
      "2  242     17.8  392.83   4.03  34.7  \n",
      "3  222     18.7  394.63   2.94  33.4  \n",
      "4  222     18.7  396.90   5.33  36.2  \n"
     ]
    }
   ],
   "source": [
    "print(df.head())"
   ]
  },
  {
   "cell_type": "code",
   "execution_count": 20,
   "metadata": {},
   "outputs": [],
   "source": [
    "X = df.drop('medv', axis = 1).values       #dropping the medv column\n",
    "Y = df['medv'].values                      #using medv as target "
   ]
  },
  {
   "cell_type": "code",
   "execution_count": 26,
   "metadata": {},
   "outputs": [],
   "source": [
    "from sklearn.model_selection import train_test_split\n",
    "X_train, X_test, Y_train, Y_test = train_test_split(X, Y, \n",
    "                                test_size = 0.3, random_state = 21)"
   ]
  },
  {
   "cell_type": "code",
   "execution_count": 27,
   "metadata": {},
   "outputs": [],
   "source": [
    "from sklearn.linear_model import LinearRegression"
   ]
  },
  {
   "cell_type": "code",
   "execution_count": 28,
   "metadata": {},
   "outputs": [],
   "source": [
    "reg = LinearRegression()"
   ]
  },
  {
   "cell_type": "code",
   "execution_count": 29,
   "metadata": {},
   "outputs": [
    {
     "data": {
      "text/plain": [
       "LinearRegression(copy_X=True, fit_intercept=True, n_jobs=None, normalize=False)"
      ]
     },
     "execution_count": 29,
     "metadata": {},
     "output_type": "execute_result"
    }
   ],
   "source": [
    "reg.fit(X_train, Y_train)"
   ]
  },
  {
   "cell_type": "code",
   "execution_count": 30,
   "metadata": {},
   "outputs": [],
   "source": [
    "pred = reg.predict(X_test)"
   ]
  },
  {
   "cell_type": "code",
   "execution_count": 33,
   "metadata": {},
   "outputs": [
    {
     "data": {
      "text/plain": [
       "array([14.8085212 , 14.7212491 , 26.58058518, 37.0328454 , 33.65385742,\n",
       "       12.995607  , 25.80053857, 29.10057492, 34.7270669 , 19.46647709,\n",
       "       24.34380887, 16.78983573, 28.77380086,  8.64319989, 18.83326559,\n",
       "       28.33002209, 15.25672971, 29.24232858,  4.1987881 , 17.48338491,\n",
       "       20.99453382, 27.22074979, 19.12928124,  1.85300755, 20.80706754,\n",
       "       33.92210617, 24.99384387, 31.16228592, 17.06033386, 24.93022663,\n",
       "       25.22257089, 19.08167936, 33.87907963, 13.65930581, 27.9232461 ,\n",
       "       31.18653726, 34.76376532, 22.04659548, 20.72856395, 17.49205551,\n",
       "       19.11482   , 32.98947659, 24.61693564, 25.08828168, 21.79883827,\n",
       "       20.43149921, 30.47034929, 21.34778985, 30.85260018, 23.58457986,\n",
       "       34.90220709, 15.02171809, 41.21553435, 16.77870602, 14.05056904,\n",
       "       11.11214073,  7.10385103, 23.69005622, 22.82612203, 27.16690701,\n",
       "       16.95200555, 35.20259748, 25.02946115, 22.78284567, 35.0228174 ,\n",
       "       36.902578  , 29.27580626, 20.06356977, 21.06830752, 19.88503693,\n",
       "       12.20267507, 24.44333523, 14.64389586, 27.49590556, 29.27031689,\n",
       "       24.90306471, 31.37386819, 20.12922846, 25.25390357, 15.32460442,\n",
       "       21.25024485, 20.37340281, 27.85480769, 16.01431308, 14.1845658 ,\n",
       "       24.54767382, 35.87926183, 25.85295876, 15.52122846, 25.16994388,\n",
       "       17.61090096,  7.95707849, 40.3374113 , 13.68079338, 31.3231421 ,\n",
       "       14.97431881, 13.23140315, 19.74322799, 17.13720806, 29.22452272,\n",
       "       17.02844916, 24.45494927, 12.33883747, 26.51260198, 32.16779291,\n",
       "       15.89854437, 16.8340439 , 18.58297396, 12.73263236, 23.48822955,\n",
       "       20.23884608, 28.31280528, 32.30699438, 18.26746324, 18.59502319,\n",
       "       22.72633846,  9.54008724,  5.49922019, 14.18581403, 31.70674753,\n",
       "       21.21563709, 24.1095117 , 22.09483805, 21.40318817, 12.11058306,\n",
       "       16.3037755 , 14.61006334, 32.18211252, 22.73383666, 25.65631577,\n",
       "       25.56744132, 34.69314494, 33.95134479, 11.90259944, 24.8048088 ,\n",
       "       19.55091149, 30.52880076, 18.35304001, 20.39094715, 16.39787333,\n",
       "       29.99606883, 17.29232748,  8.82660272, 36.3438642 , 37.37834229,\n",
       "       32.5851201 , 13.61777606, 39.36499335, 15.81001834, 29.38088521,\n",
       "       13.07449763, 15.85795564])"
      ]
     },
     "execution_count": 33,
     "metadata": {},
     "output_type": "execute_result"
    }
   ],
   "source": [
    "pred"
   ]
  },
  {
   "cell_type": "code",
   "execution_count": 34,
   "metadata": {},
   "outputs": [
    {
     "data": {
      "text/plain": [
       "0.7120284800434972"
      ]
     },
     "execution_count": 34,
     "metadata": {},
     "output_type": "execute_result"
    }
   ],
   "source": [
    "reg.score(X_test, Y_test)"
   ]
  },
  {
   "cell_type": "code",
   "execution_count": 37,
   "metadata": {},
   "outputs": [
    {
     "name": "stdout",
     "output_type": "stream",
     "text": [
      "[ 0.57280576  0.72459569  0.59122862  0.08126754 -0.20963498]\n"
     ]
    }
   ],
   "source": [
    "from sklearn.model_selection import cross_val_score\n",
    "from sklearn.linear_model import LinearRegression\n",
    "reg = LinearRegression()\n",
    "cv = cross_val_score(reg, X, Y, cv = 5)\n",
    "print(cv)"
   ]
  },
  {
   "cell_type": "code",
   "execution_count": null,
   "metadata": {},
   "outputs": [],
   "source": []
  }
 ],
 "metadata": {
  "kernelspec": {
   "display_name": "Python 3",
   "language": "python",
   "name": "python3"
  },
  "language_info": {
   "codemirror_mode": {
    "name": "ipython",
    "version": 3
   },
   "file_extension": ".py",
   "mimetype": "text/x-python",
   "name": "python",
   "nbconvert_exporter": "python",
   "pygments_lexer": "ipython3",
   "version": "3.7.3"
  }
 },
 "nbformat": 4,
 "nbformat_minor": 2
}
